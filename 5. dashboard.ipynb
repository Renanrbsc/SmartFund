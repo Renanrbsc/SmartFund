{
 "cells": [
  {
   "cell_type": "code",
   "execution_count": 3,
   "id": "7b8d5470",
   "metadata": {},
   "outputs": [],
   "source": [
    "import tkinter as tk\n",
    "from tkinter import ttk\n",
    "import pandas as pd\n",
    "import matplotlib.pyplot as plt\n",
    "from matplotlib.backends.backend_tkagg import FigureCanvasTkAgg\n",
    "import configparser\n",
    "\n",
    "# Load configuration file\n",
    "config = configparser.ConfigParser()\n",
    "config.read('config.ini')\n",
    "paths = config['paths']"
   ]
  },
  {
   "cell_type": "code",
   "execution_count": 4,
   "id": "16ea4f39",
   "metadata": {},
   "outputs": [],
   "source": [
    "class GUI:\n",
    "    def __init__(self, root):\n",
    "        self.root = root\n",
    "        self.root.title(\"Visualização Gráfica\")\n",
    "\n",
    "        # Criar o Notebook para abas\n",
    "        self.notebook = ttk.Notebook(root)\n",
    "        self.notebook.pack(expand=True, fill=\"both\")\n",
    "\n",
    "        # Criar a primeira aba\n",
    "        self.portfolio_analysis = self.load_portfolio_analysis()\n",
    "        self.create_tab(self.portfolio_analysis, \"Distribuição Percentual\")\n",
    "\n",
    "    def load_portfolio_analysis(self):\n",
    "        path_portfolio_analysis = paths['path_portfolio_analysis']\n",
    "        df_portfolio_analysis = pd.read_csv(path_portfolio_analysis, sep=\",\")\n",
    "        return df_portfolio_analysis\n",
    "    \n",
    "    def create_tab(self, dataframe, title):\n",
    "        # Criar uma Frame para a aba\n",
    "        frame = ttk.Frame(self.notebook)\n",
    "        self.notebook.add(frame, text=title)\n",
    "\n",
    "        # Crie uma figura e eixos para o gráfico\n",
    "        figure = plt.Figure(figsize=(8, 6), dpi=100)\n",
    "        ax = figure.add_subplot(111)\n",
    "\n",
    "        # Agrupe por 'Tipo Ativo' e 'Ativo'\n",
    "        grouped = dataframe.groupby(['Tipo Ativo', 'Ativo'])\n",
    "\n",
    "        # Itere sobre os grupos e crie barras empilhadas\n",
    "        for (tipo_ativo, ativo), group in grouped:\n",
    "            ax.bar(ativo, group['% Carteira'], label=f'{tipo_ativo} - {ativo}')\n",
    "\n",
    "        # Adicione rótulos e legendas\n",
    "        ax.set_ylabel('% Carteira')\n",
    "        ax.set_title('Distribuição Percentual da Carteira')\n",
    "        ax.legend()\n",
    "\n",
    "        # Adicione o gráfico à Frame usando FigureCanvasTkAgg\n",
    "        canvas = FigureCanvasTkAgg(figure, master=frame)\n",
    "        canvas.get_tk_widget().pack()\n",
    "\n",
    "if __name__ == \"__main__\":\n",
    "    root = tk.Tk()\n",
    "    app = GUI(root)\n",
    "    root.mainloop()\n"
   ]
  },
  {
   "cell_type": "code",
   "execution_count": null,
   "id": "182e251b",
   "metadata": {},
   "outputs": [],
   "source": []
  },
  {
   "cell_type": "code",
   "execution_count": null,
   "id": "f58e43cb",
   "metadata": {},
   "outputs": [],
   "source": []
  },
  {
   "cell_type": "code",
   "execution_count": null,
   "id": "0cb8d622",
   "metadata": {},
   "outputs": [],
   "source": []
  },
  {
   "cell_type": "code",
   "execution_count": null,
   "id": "9db0bce7",
   "metadata": {},
   "outputs": [],
   "source": []
  },
  {
   "cell_type": "code",
   "execution_count": null,
   "id": "f13a24c6",
   "metadata": {},
   "outputs": [],
   "source": []
  }
 ],
 "metadata": {
  "kernelspec": {
   "display_name": ".venv",
   "language": "python",
   "name": "python3"
  },
  "language_info": {
   "codemirror_mode": {
    "name": "ipython",
    "version": 3
   },
   "file_extension": ".py",
   "mimetype": "text/x-python",
   "name": "python",
   "nbconvert_exporter": "python",
   "pygments_lexer": "ipython3",
   "version": "3.10.6"
  }
 },
 "nbformat": 4,
 "nbformat_minor": 5
}
