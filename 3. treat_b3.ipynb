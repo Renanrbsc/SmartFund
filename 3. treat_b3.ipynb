{
 "cells": [
  {
   "cell_type": "markdown",
   "metadata": {},
   "source": [
    "# Imports"
   ]
  },
  {
   "cell_type": "code",
   "execution_count": null,
   "metadata": {},
   "outputs": [],
   "source": [
    "import os\n",
    "import pandas as pd\n",
    "from datetime import datetime\n",
    "import configparser\n",
    "import warnings\n",
    "\n",
    "# Desativar as mensagens de aviso\n",
    "warnings.filterwarnings(\"ignore\")\n",
    "\n",
    "pd.set_option('display.max_rows', 300)\n",
    "pd.set_option('display.max_columns', 50)\n",
    "\n",
    "now = datetime.now()\n",
    "\n",
    "# Create obj config and load paths\n",
    "config = configparser.ConfigParser()\n",
    "config.read('config.ini')\n",
    "paths = config['paths']"
   ]
  },
  {
   "cell_type": "markdown",
   "metadata": {},
   "source": [
    "# Load Dataframes"
   ]
  },
  {
   "cell_type": "code",
   "execution_count": null,
   "metadata": {},
   "outputs": [],
   "source": [
    "def join_dataframes_from_directory(directory):\n",
    "    dfs = []\n",
    "    for root, _, files in os.walk(directory):\n",
    "        for file in files:\n",
    "            if file.endswith(\".xlsx\"):\n",
    "                filepath = os.path.join(root, file)\n",
    "                df = pd.read_excel(\n",
    "                    filepath, \n",
    "                    engine=\"openpyxl\"\n",
    "                )\n",
    "                print(f'Readed {file}')\n",
    "                df = df.sort_index(ascending=False)\n",
    "                dfs.append(df)\n",
    "    if len(dfs) > 0:\n",
    "        df_result = pd.concat(dfs, ignore_index=True)\n",
    "        print('Count df:', df_result.shape[0])\n",
    "        return df_result\n",
    "    else:\n",
    "        print('No files found in the directory')\n",
    "        return None\n",
    "\n",
    "# Load main files\n",
    "df = join_dataframes_from_directory(paths[\"path_b3_reports\"])\n",
    "df_depara_ativos = pd.read_csv(paths[\"path_categorizer_investments\"], sep=\",\")\n",
    "df_darfs_emitidas = pd.read_csv(paths[\"path_darfs_issued\"], sep=\",\")"
   ]
  },
  {
   "cell_type": "markdown",
   "metadata": {},
   "source": [
    "# Treatment Columns"
   ]
  },
  {
   "cell_type": "code",
   "execution_count": null,
   "metadata": {},
   "outputs": [],
   "source": [
    "# Treatment b3 reports\n",
    "mask = ['Código de Negociação', 'Data do Negócio', 'Tipo de Movimentação', 'Quantidade', 'Preço', 'Valor']\n",
    "df = df[mask]\n",
    "\n",
    "df = df.rename(columns={\"Código de Negociação\": \"Ativo\"})\n",
    "df = df.rename(columns={\"Data do Negócio\": \"Data Negociacao\"})\n",
    "df = df.rename(columns={\"Tipo de Movimentação\": \"Tipo de Movimentacao\"})\n",
    "df = df.rename(columns={\"Preço\": \"Preco\"})\n",
    "\n",
    "df[\"Data Negociacao\"] = pd.to_datetime(df[\"Data Negociacao\"], format=\"%d/%m/%Y\")\n",
    "df[\"Data Mensal\"] = df[\"Data Negociacao\"].dt.to_period(\"M\")"
   ]
  },
  {
   "cell_type": "markdown",
   "metadata": {},
   "source": [
    "# Fix \"Desdobramento de Cotas\""
   ]
  },
  {
   "cell_type": "code",
   "execution_count": null,
   "metadata": {},
   "outputs": [],
   "source": [
    "# Ativo: KNSC11\n",
    "cond = (df['Ativo'] == 'KNSC11') & (df['Data Negociacao'] <= pd.to_datetime('2023-11-03'))\n",
    "df.loc[cond, 'Preco'] = df.loc[cond, 'Preco'] / 10\n",
    "df.loc[cond, 'Quantidade'] = df.loc[cond, 'Quantidade'] * 10\n",
    "\n",
    "# Desdobramento de cotas na proporção de 1:10\n",
    "# Ativo: CPTS11\n",
    "cond = (df['Ativo'] == 'CPTS11') & (df['Data Negociacao'] <= pd.to_datetime('2023-09-25'))\n",
    "df.loc[cond, 'Preco'] = df.loc[cond, 'Preco'] / 10\n",
    "df.loc[cond, 'Quantidade'] = df.loc[cond, 'Quantidade'] * 10\n",
    "\n",
    "# Desdobramento de cotas na proporção de 1:10\n",
    "# Ativo: BBAS3FV\n",
    "cond = (df['Ativo'] == 'BBAS3F') & (df['Data Negociacao'] <= pd.to_datetime('2024-04-15'))\n",
    "df.loc[cond, 'Preco'] = df.loc[cond, 'Preco'] / 2\n",
    "df.loc[cond, 'Quantidade'] = df.loc[cond, 'Quantidade'] * 2\n"
   ]
  },
  {
   "cell_type": "markdown",
   "metadata": {},
   "source": [
    "# Sort and create new index"
   ]
  },
  {
   "cell_type": "code",
   "execution_count": null,
   "metadata": {},
   "outputs": [],
   "source": [
    "# Crie uma nova coluna com o índice de ordenação por Ativo\n",
    "df['Movimentacao do Ativo'] = df.groupby('Ativo').cumcount() + 1"
   ]
  },
  {
   "cell_type": "markdown",
   "metadata": {},
   "source": [
    "# Feature \"Tipo de estrategia\""
   ]
  },
  {
   "cell_type": "code",
   "execution_count": null,
   "metadata": {},
   "outputs": [],
   "source": [
    "def validador_estrategia_trade(group):\n",
    "    \"\"\"\n",
    "    Função para auxiliar na separação de Estrategias Day Trade e Long Trade\n",
    "    Necessita de ajuste manual após validação, \n",
    "    deve separar as quantidades que pertencem determinada estrategia\n",
    "    Ex: quantidade venda maior que quantidade compra,\n",
    "        copiar linha e dividir o valor pelas quantidades de cada estrategia.\n",
    "        linha 1 priorizar a venda das quantidades Day Trade.\n",
    "        linha 2 separar quantidades restantes como Long Trade.\n",
    "    \"\"\"\n",
    "    tem_venda = (group['Tipo de Movimentacao'] == 'Venda').any()\n",
    "    tem_compra = (group['Tipo de Movimentacao'] == 'Compra').any()\n",
    "    \n",
    "    group['Verificar Estrategia'] = tem_venda and tem_compra\n",
    "    return group\n",
    "\n",
    "# Crie cópias das colunas 'Tipo Estrategia' e 'Verificar Estrategia'\n",
    "df['Tipo Estrategia'] = 'Long Trade'\n",
    "df['Verificar Estrategia'] = False\n",
    "\n",
    "# Aplique a função validador_estrategia_trade no DataFrame original\n",
    "df = df.groupby(['Ativo', 'Data Negociacao']).apply(validador_estrategia_trade).reset_index(drop=True)"
   ]
  },
  {
   "cell_type": "markdown",
   "metadata": {},
   "source": [
    "# Feature \"Tipo de investimento\""
   ]
  },
  {
   "cell_type": "code",
   "execution_count": null,
   "metadata": {},
   "outputs": [],
   "source": [
    "# Check Categoria de Ativos\n",
    "ativos_sem_categoria = set(df[\"Ativo\"].unique()).difference(df_depara_ativos[\"Ativo\"].unique())\n",
    "if len(ativos_sem_categoria) > 0:\n",
    "    print(\"Há ativos sem categorias!\")\n",
    "    print(\"Ativos:\", ativos_sem_categoria)\n",
    "else:\n",
    "    print(\"Todos os ativos contém categoria!\")\n",
    "    # Merge para obter os tipos de ativos e possibilitar o calculo de taxa IR\n",
    "    df = df.merge(df_depara_ativos, on=\"Ativo\", how=\"left\")"
   ]
  },
  {
   "cell_type": "markdown",
   "metadata": {},
   "source": [
    "# Feature \"Investimentos\", \"Quantidades\" and \"Preço medio\"  "
   ]
  },
  {
   "cell_type": "code",
   "execution_count": null,
   "metadata": {},
   "outputs": [],
   "source": [
    "def calcular_valores_negociados(group):\n",
    "    \"\"\"\n",
    "    Função para calcular o investimento, \n",
    "    quantidade e preço médio acumulado de cada grupo de ativos.\n",
    "    \"\"\"\n",
    "    investimento_acumulado = 0\n",
    "    quantidade_acumulada = 0\n",
    "    preco_medio = 0\n",
    "\n",
    "    for index, row in group.iterrows():\n",
    "        if row['Tipo de Movimentacao'] == 'Compra':\n",
    "            investimento_acumulado += row['Valor']\n",
    "            quantidade_acumulada += row[\"Quantidade\"]\n",
    "            preco_medio = investimento_acumulado / quantidade_acumulada\n",
    "\n",
    "        elif row['Tipo de Movimentacao'] == 'Venda':\n",
    "            valor_investido = preco_medio * row['Quantidade']\n",
    "            investimento_acumulado -= valor_investido\n",
    "            quantidade_acumulada -= row[\"Quantidade\"]\n",
    "            if (investimento_acumulado == 0) & (quantidade_acumulada == 0):\n",
    "                preco_medio = 0\n",
    "            elif (investimento_acumulado > 0) & (quantidade_acumulada > 0):\n",
    "                preco_medio = investimento_acumulado / quantidade_acumulada\n",
    "            else:\n",
    "                # preciso checkar cada grupo de ativo manualmente\n",
    "                print(investimento_acumulado, quantidade_acumulada, row['Ativo'])\n",
    "\n",
    "        group.at[index, 'Investimento Atual'] = investimento_acumulado\n",
    "        group.at[index, 'Quantidade Atual'] = quantidade_acumulada\n",
    "        group.at[index, 'Preco Medio Atual'] = preco_medio\n",
    "    return group\n",
    "\n",
    "# Agrupar por \"Ativo\" e aplicar a função de cálculo do preço médio acumulado em cada grupo\n",
    "df = df.groupby('Ativo').apply(calcular_valores_negociados).reset_index(drop=True)\n",
    "\n",
    "# Create new columns using shift value\n",
    "df['Investimento Anterior'] = df.groupby('Ativo')['Investimento Atual'].shift()\n",
    "df['Quantidade Anterior'] = df.groupby('Ativo')['Quantidade Atual'].shift()\n",
    "df['Preco Medio Anterior'] = df.groupby('Ativo')['Preco Medio Atual'].shift()\n",
    "\n",
    "df['Investimento Anterior'] = df['Investimento Anterior'].fillna(0)\n",
    "df['Quantidade Anterior'] = df['Quantidade Anterior'].fillna(0)\n",
    "df['Preco Medio Anterior'] = df['Preco Medio Anterior'].fillna(0)\n",
    "\n",
    "# Fix typings\n",
    "df['Investimento Atual'] = df['Investimento Atual'].astype('float').round(2)\n",
    "df['Quantidade Atual'] = df['Quantidade Atual'].astype('int')\n",
    "df['Preco Medio Atual'] = df['Preco Medio Atual'].astype('float').round(2)\n",
    "\n",
    "df['Investimento Anterior'] = df['Investimento Anterior'].astype('float').round(2)\n",
    "df['Quantidade Anterior'] = df['Quantidade Anterior'].astype('int')\n",
    "df['Preco Medio Anterior'] = df['Preco Medio Anterior'].astype('float').round(2)"
   ]
  },
  {
   "cell_type": "markdown",
   "metadata": {},
   "source": [
    "# Feature \"Taxa IR\" and \"Dedo Duro\""
   ]
  },
  {
   "cell_type": "code",
   "execution_count": null,
   "metadata": {},
   "outputs": [],
   "source": [
    "def definir_taxa_imposto_renda_dedo_duro_por_ativo(row):\n",
    "    # Calcula a taxa de IR (Imposto de Renda) considerando 15% para ações e 20% para FIIs.\n",
    "    # Ações IR: Day Trade 20%, Swing Trade 15% e Long Trade 15%. \n",
    "    # Calcular Dedo Duro da mesma forma, \n",
    "    # Dedo Duro: Day Trade 1%, Swing Trade 0.005% e Long Trade 0.005%\n",
    "    if row[\"Tipo de Movimentacao\"] == \"Venda\":\n",
    "        if row[\"Tipo Estrategia\"] == \"Day Trade\":\n",
    "            row[\"Dedo Duro\"] = row[\"Valor\"] * 0.01\n",
    "            row[\"Taxa IR\"] = 0.20\n",
    "        elif row[\"Tipo Estrategia\"] == \"Long Trade\":\n",
    "            if row[\"Tipo Ativo\"] == \"Fii\":\n",
    "                row[\"Dedo Duro\"] = row[\"Valor\"] * 0.00005\n",
    "                row[\"Taxa IR\"] = 0.20\n",
    "            elif row[\"Tipo Ativo\"] == \"Acao\":\n",
    "                row[\"Dedo Duro\"] = row[\"Valor\"] * 0.00005\n",
    "                row[\"Taxa IR\"] = 0.15\n",
    "            else: \n",
    "                row[\"Dedo Duro\"] = \"Outras Categorias\"\n",
    "                row[\"Taxa IR\"] = \"Outras Categorias\"\n",
    "        else:\n",
    "            row[\"Dedo Duro\"] = \"Outras Estrategias\"\n",
    "            row[\"Taxa IR\"] = \"Outras Estrategias\"\n",
    "    else:\n",
    "        row[\"Dedo Duro\"] = 0\n",
    "        row[\"Taxa IR\"] = 0\n",
    "    return row\n",
    "\n",
    "# Define a taxa IR e Taxa de Retenção na fonte para cada negociação de venda\n",
    "df = df.apply(definir_taxa_imposto_renda_dedo_duro_por_ativo, axis=1)\n",
    "\n",
    "# Fix typings\n",
    "df['Dedo Duro'] = df['Dedo Duro'].astype('float').round(2)\n",
    "df['Taxa IR'] = df['Taxa IR'].astype('float').round(2)"
   ]
  },
  {
   "cell_type": "markdown",
   "metadata": {},
   "source": [
    "# Feature \"lucro bruto\" and \"prejuizo\""
   ]
  },
  {
   "cell_type": "code",
   "execution_count": null,
   "metadata": {},
   "outputs": [],
   "source": [
    "def calcular_lucro_bruto_prejuizo(row):\n",
    "    \"\"\"\n",
    "    Calcula o Lucro Bruto e Prejuizo em determinados momentos (Parcial ou inteiro de venda)\n",
    "    \"\"\"\n",
    "    if row['Tipo de Movimentacao'] == 'Venda':\n",
    "        lucro_prejuizo = -(row[\"Preco Medio Anterior\"] * row[\"Quantidade\"]) + row[\"Valor\"]\n",
    "        if lucro_prejuizo > 0:\n",
    "            row[\"Lucro Bruto\"] = lucro_prejuizo\n",
    "            row[\"Prejuizo\"] = 0\n",
    "        elif lucro_prejuizo < 0:\n",
    "            row[\"Lucro Bruto\"] = 0\n",
    "            row[\"Prejuizo\"] = abs(lucro_prejuizo)\n",
    "        elif lucro_prejuizo == 0:\n",
    "            row[\"Lucro Bruto\"] = 0\n",
    "            row[\"Prejuizo\"] = 0\n",
    "    else:\n",
    "        row[\"Lucro Bruto\"] = 0\n",
    "        row[\"Prejuizo\"] = 0\n",
    "    return row\n",
    "\n",
    "# cálculo do lucro e prejuizo em cada negociação de venda\n",
    "df = df.apply(calcular_lucro_bruto_prejuizo, axis=1)\n",
    "\n",
    "df['Lucro Bruto'] = df['Lucro Bruto'].astype('float').round(2)\n",
    "df['Prejuizo'] = df['Prejuizo'].astype('float').round(2)"
   ]
  },
  {
   "cell_type": "markdown",
   "metadata": {},
   "source": [
    "# Feature \"Imposto de Renda\""
   ]
  },
  {
   "cell_type": "code",
   "execution_count": null,
   "metadata": {},
   "outputs": [],
   "source": [
    "def calcular_imposto_renda_esperado(row):\n",
    "    # Calcula o valor do IR para cada transação\n",
    "    # e desconta o \"dedo duro\" já pago nas transaçoes\n",
    "    if row[\"Lucro Bruto\"] > 0:\n",
    "        row[\"IR Esperado\"] = (row[\"Lucro Bruto\"] * row[\"Taxa IR\"]) - row[\"Dedo Duro\"]\n",
    "    else:\n",
    "        row[\"IR Esperado\"] = 0\n",
    "    return row\n",
    "\n",
    "df = df.apply(calcular_imposto_renda_esperado, axis=1)\n",
    "\n",
    "df['IR Esperado'] = df['IR Esperado'].astype('float').round(2)"
   ]
  },
  {
   "cell_type": "code",
   "execution_count": null,
   "metadata": {},
   "outputs": [],
   "source": [
    "def calcular_lucro_real(row):\n",
    "    # Calcula o valor Real de Lucro descontando os prezuizos e impostos\n",
    "    if row[\"Lucro Bruto\"] > 0:\n",
    "        row[\"Lucro Real\"] = row[\"Lucro Bruto\"] - row[\"IR Esperado\"]\n",
    "    else:\n",
    "        row[\"Lucro Real\"] = 0\n",
    "    return row\n",
    "\n",
    "# Calcula o valor Real de Lucro descontando os prezuizos e impostos\n",
    "df = df.apply(calcular_lucro_real, axis=1)\n",
    "\n",
    "df['Lucro Real'] = df['Lucro Real'].astype('float').round(2)"
   ]
  },
  {
   "cell_type": "markdown",
   "metadata": {},
   "source": [
    "# Save Consolidated"
   ]
  },
  {
   "cell_type": "code",
   "execution_count": null,
   "metadata": {},
   "outputs": [],
   "source": [
    "df.to_csv(paths['path_treated_b3_report'], index=False)"
   ]
  },
  {
   "cell_type": "code",
   "execution_count": null,
   "metadata": {},
   "outputs": [],
   "source": [
    "df_compra = df[df['Tipo de Movimentacao'] == 'Compra']\n",
    "df_venda = df[df['Tipo de Movimentacao'] == 'Venda']\n",
    "\n",
    "df_venda_mensal = df_venda.groupby([\"Tipo Ativo\", \"Data Mensal\", \"Taxa IR\", \"Tipo Estrategia\"]).agg(\n",
    "    {\n",
    "        \"Valor\": \"sum\",\n",
    "        \"IR Esperado\": \"sum\",\n",
    "        \"Dedo Duro\": \"sum\",\n",
    "        \"Lucro Bruto\": \"sum\",\n",
    "        \"Prejuizo\": \"sum\",\n",
    "        \"Lucro Real\": \"sum\"\n",
    "    }\n",
    ").reset_index()"
   ]
  },
  {
   "cell_type": "code",
   "execution_count": null,
   "metadata": {},
   "outputs": [],
   "source": [
    "df_darfs_emitidas['Tipo Ativo'] = df_darfs_emitidas['Tipo Ativo'].astype('str')\n",
    "df_darfs_emitidas['Data'] = pd.to_datetime(df_darfs_emitidas['Data'], format=\"%d/%m/%Y\")\n",
    "df_darfs_emitidas['IR Pago'] = df_darfs_emitidas['IR Pago'].astype('float').round(2)\n",
    "df_darfs_emitidas[\"Data Mensal\"] = df_darfs_emitidas[\"Data\"].dt.to_period(\"M\")\n",
    "\n",
    "df_venda_mensal = df_venda_mensal.merge(\n",
    "    df_darfs_emitidas[['Tipo Ativo', 'Data Mensal', 'IR Pago']], \n",
    "    on=['Tipo Ativo', 'Data Mensal'],\n",
    "    how=\"left\"\n",
    ")\n",
    "df_venda_mensal['IR Pago'] = df_venda_mensal['IR Pago'].fillna(0)"
   ]
  },
  {
   "cell_type": "code",
   "execution_count": null,
   "metadata": {},
   "outputs": [],
   "source": [
    "def isencao_imposto_renda(row):\n",
    "    # Para vendas de ações com montante menor ou igual \n",
    "    # a 20.000,00 em um periodo de um 1 mes, será isento de declarar imposto sobre essas ações, \n",
    "    # sendo excessões, qualquer tipo de Day Trade ou qualquer outra categoria.\n",
    "    isencao_imposto_renda = False\n",
    "    if (row[\"Tipo Estrategia\"] == \"Long Trade\") \\\n",
    "            & (row['Tipo Ativo'] == \"Acao\") \\\n",
    "            & (row[\"Valor\"] < 20000):\n",
    "        isencao_imposto_renda = True\n",
    "    row[\"Isento IR\"] = isencao_imposto_renda\n",
    "    return row\n",
    "\n",
    "df_venda_mensal = df_venda_mensal.apply(isencao_imposto_renda, axis=1)"
   ]
  },
  {
   "cell_type": "markdown",
   "metadata": {},
   "source": [
    "# Feature \"Compensação de Impostos\""
   ]
  },
  {
   "cell_type": "code",
   "execution_count": null,
   "metadata": {},
   "outputs": [],
   "source": [
    "def calcular_compensacao_impostos(group):\n",
    "    prejuizo_acumulado = 0\n",
    "    imposto_acumulado = 0\n",
    "\n",
    "    for index, row in group.iterrows():\n",
    "        prejuizo_compensado = row['Lucro Bruto'] - row['Prejuizo']\n",
    "\n",
    "        if prejuizo_compensado < 0:\n",
    "            group.at[index, 'Lucro Bruto Compensado'] = prejuizo_compensado\n",
    "            prejuizo_acumulado += prejuizo_compensado\n",
    "        else:\n",
    "            group.at[index, 'Lucro Bruto Compensado'] = prejuizo_compensado\n",
    "            prejuizo_acumulado = 0\n",
    "        group.at[index, 'Prejuizo Acumulado'] = prejuizo_acumulado\n",
    "\n",
    "        if prejuizo_compensado > 0:\n",
    "            imposto_compensado = (prejuizo_compensado * row['Taxa IR']) - row['Dedo Duro']\n",
    "        elif prejuizo_compensado == 0:\n",
    "            imposto_compensado = prejuizo_compensado - row['Dedo Duro']\n",
    "        else:\n",
    "            imposto_compensado = 0              \n",
    "        group.at[index, 'IR Compensado'] = imposto_compensado\n",
    "\n",
    "        imposto_acumulado += imposto_compensado\n",
    "        group.at[index, 'IR Acumulado'] = imposto_acumulado\n",
    "\n",
    "        if row['IR Pago'] > 0:\n",
    "            imposto_pendente = imposto_acumulado - row['IR Pago']\n",
    "            if imposto_pendente < 0:\n",
    "                imposto_pendente = 0\n",
    "                imposto_acumulado = 0\n",
    "        else:\n",
    "            imposto_pendente = imposto_acumulado\n",
    "        group.at[index, 'IR Pendente'] = imposto_pendente\n",
    "        \n",
    "    return group\n",
    "\n",
    "df_venda_mensal = df_venda_mensal.groupby(['Tipo Ativo', 'Tipo Estrategia']).apply(calcular_compensacao_impostos).reset_index(drop=True)\n",
    "\n",
    "df_venda_mensal['IR Compensado'] = df_venda_mensal['IR Compensado'].astype('float').round(2)\n",
    "df_venda_mensal['IR Acumulado'] = df_venda_mensal['IR Acumulado'].astype('float').round(2)\n",
    "df_venda_mensal['IR Pendente'] = df_venda_mensal['IR Pendente'].astype('float').round(2)"
   ]
  },
  {
   "cell_type": "markdown",
   "metadata": {},
   "source": [
    "# Conclusão"
   ]
  },
  {
   "cell_type": "code",
   "execution_count": null,
   "metadata": {},
   "outputs": [],
   "source": [
    "print(\"-\"*30, \"\\nRelatorio completo:\\n\", \"-\"*30)\n",
    "\n",
    "print(f\"Periodo de Negociações listadas: {df['Data Negociacao'].min().date()} até {df['Data Negociacao'].max().date()}\")\n",
    "print(\"Quantidade de compras totais negociadas:\", df_compra[df_compra[\"Tipo de Movimentacao\"] == \"Compra\"].shape[0])\n",
    "print(\"Quantidade de vendas totais negociadas:\", df_venda[df_venda[\"Tipo de Movimentacao\"] == \"Venda\"].shape[0])\n",
    "print(\"Total de Transações com imposto a declarar:\", df_venda[df_venda['Lucro Bruto'] > 0].shape[0])\n",
    "print(\"Total de Transações com prejuizo a compensar no imposto:\", df_venda[df_venda['Prejuizo'] < 0].shape[0])\n",
    "print(\"Total de Prejuizo obtido:\", round(df_venda_mensal['Prejuizo'].sum(), 2))\n",
    "print(\"Total de Lucro Real obtido:\", round(df_venda_mensal['Lucro Real'].sum(), 2))\n",
    "\n",
    "list_imposto_final = list()\n",
    "for categoria in df[\"Tipo Ativo\"].unique():\n",
    "    \n",
    "    print(f\"\\nCategoria de {categoria}(s):\")\n",
    "    df_categoria = df_venda_mensal[df_venda_mensal[\"Tipo Ativo\"] == categoria]\n",
    "    df_sem_isenção = df_categoria[df_categoria[\"Isento IR\"] == False]\n",
    "    \n",
    "    total_ir = df_categoria[\"IR Esperado\"].sum()\n",
    "    print(f\"Total de Imposto de Renda: R$ {total_ir:.2f}\")\n",
    "\n",
    "    total_ir_sem_isentos = df_sem_isenção[\"IR Esperado\"].sum()\n",
    "    print(f\"Total de Imposto de Renda em não isentos: R$ {total_ir_sem_isentos:.2f}\")\n",
    "\n",
    "    list_imposto_final.append(total_ir_sem_isentos)\n",
    "\n",
    "print(f\"\\nTotal de Impostos a Pagar: R$ {sum(list_imposto_final):.2f}\")\n",
    "\n",
    "print(\"\\nRelatorio de Agrupamento Mensal\")\n",
    "print(\"Quantidade de isenções de IR:\", df_venda_mensal[df_venda_mensal['Isento IR'] == True].shape[0])\n",
    "print(\"Quantidade de não isenções de IR:\", df_venda_mensal[df_venda_mensal['Isento IR'] == False].shape[0])"
   ]
  },
  {
   "cell_type": "code",
   "execution_count": null,
   "metadata": {},
   "outputs": [],
   "source": [
    "previous_month = (pd.to_datetime('today') - pd.DateOffset(months=1)).strftime('%Y-%m')\n",
    "df_filtro_mes = df_venda_mensal[df_venda_mensal[\"Data Mensal\"] == previous_month]\n",
    "print(\"-\"*30, f\"\\nRelatorio Mensal - {previous_month}\\n\", \"-\"*30)\n",
    "print(\"Total de Transações com imposto a declarar:\", df_filtro_mes[df_filtro_mes['IR Esperado'] > 0].shape[0])\n",
    "print(\"Total de Transações com prejuizo a compensar no imposto:\", df_filtro_mes[df_filtro_mes['Prejuizo'] < 0].shape[0])\n",
    "print(\"Total de Prejuizo obtido:\", round(df_filtro_mes['Prejuizo'].sum(), 2))\n",
    "print(\"Total de Lucro Real obtido:\", round(df_filtro_mes['Lucro Real'].sum(), 2))\n",
    "\n",
    "list_imposto_final = list()\n",
    "for categoria in df[\"Tipo Ativo\"].unique():\n",
    "    print(f\"\\nCategoria de {categoria}(s):\")\n",
    "    df_categoria = df_filtro_mes[df_filtro_mes[\"Tipo Ativo\"] == categoria]\n",
    "    df_sem_isenção = df_categoria[df_categoria[\"Isento IR\"] == False]\n",
    "    \n",
    "    total_ir = df_categoria[\"IR Esperado\"].sum()\n",
    "    print(f\"Total de Imposto de Renda: R$ {total_ir:.2f}\")\n",
    "\n",
    "    total_ir_sem_isentos = df_sem_isenção[\"IR Esperado\"].sum()\n",
    "    print(f\"Total de Imposto de Renda em não isentos: R$ {total_ir_sem_isentos:.2f}\")\n",
    "\n",
    "    list_imposto_final.append(total_ir_sem_isentos)\n",
    "\n",
    "print(f\"\\nTotal de Impostos a Pagar: R$ {sum(list_imposto_final):.2f}\")\n",
    "\n",
    "print(\"\\nRelatorio de Agrupamento Mensal\")\n",
    "print(\"Quantidade de isenções de IR:\", df_filtro_mes[df_filtro_mes['Isento IR'] == True].shape[0])\n",
    "print(\"Quantidade de não isenções de IR:\", df_filtro_mes[df_filtro_mes['Isento IR'] == False].shape[0])"
   ]
  },
  {
   "cell_type": "code",
   "execution_count": null,
   "metadata": {},
   "outputs": [],
   "source": [
    "mask = ['Tipo Ativo', 'Data Mensal', 'Tipo Estrategia', \n",
    "        'Valor', 'Taxa IR', 'Dedo Duro', 'Isento IR', \n",
    "        'Lucro Real', 'Lucro Bruto', 'Prejuizo', 'Lucro Bruto Compensado',\n",
    "        'Prejuizo Acumulado', 'IR Esperado', 'IR Compensado', \n",
    "        'IR Acumulado', 'IR Pago', 'IR Pendente']\n",
    "df_venda_mensal = df_venda_mensal[mask].sort_values(['Data Mensal'], ascending=False)"
   ]
  },
  {
   "cell_type": "code",
   "execution_count": null,
   "metadata": {},
   "outputs": [],
   "source": [
    "df_venda_mensal.to_csv(paths['path_treated_b3_report_monthly'], index=False)"
   ]
  },
  {
   "cell_type": "code",
   "execution_count": null,
   "metadata": {},
   "outputs": [],
   "source": []
  }
 ],
 "metadata": {
  "kernelspec": {
   "display_name": ".venv",
   "language": "python",
   "name": "python3"
  },
  "language_info": {
   "codemirror_mode": {
    "name": "ipython",
    "version": 3
   },
   "file_extension": ".py",
   "mimetype": "text/x-python",
   "name": "python",
   "nbconvert_exporter": "python",
   "pygments_lexer": "ipython3",
   "version": "3.10.6"
  }
 },
 "nbformat": 4,
 "nbformat_minor": 2
}
