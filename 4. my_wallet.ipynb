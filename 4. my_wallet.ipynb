{
 "cells": [
  {
   "cell_type": "markdown",
   "metadata": {},
   "source": [
    "# Portfolio Analysis Script\n",
    "\n",
    "This script processes financial data related to investments in real estate investment funds (FIIs) and stocks, using Pandas for data manipulation, and Tkinter for a possible GUI integration. \n",
    "\n",
    "The steps include:\n",
    "- Reading and cleaning financial data.\n",
    "- Merging various data sources (investment data and market data).\n",
    "- Calculating portfolio statistics.\n",
    "- Generating basic reports on investment status."
   ]
  },
  {
   "cell_type": "code",
   "execution_count": null,
   "metadata": {},
   "outputs": [],
   "source": [
    "import pandas as pd\n",
    "import os\n",
    "import getpass\n",
    "from datetime import datetime\n",
    "import tkinter as tk\n",
    "from tkinter import ttk\n",
    "import matplotlib.pyplot as plt\n",
    "from matplotlib.backends.backend_tkagg import FigureCanvasTkAgg\n",
    "import numpy as np\n",
    "import configparser\n",
    "\n",
    "# Set Pandas display options\n",
    "pd.set_option('display.max_rows', 100)\n",
    "pd.set_option('display.max_columns', 50)\n",
    "\n",
    "# Get current date\n",
    "now = datetime.now().date()"
   ]
  },
  {
   "cell_type": "markdown",
   "metadata": {},
   "source": [
    "## Configuration and Data Loading\n",
    "\n",
    "This section loads the configuration file (`config.ini`) for paths and reads the data from CSV files containing investment reports and market quotes.\n"
   ]
  },
  {
   "cell_type": "code",
   "execution_count": null,
   "metadata": {},
   "outputs": [],
   "source": [
    "# Load configuration file\n",
    "config = configparser.ConfigParser()\n",
    "config.read('config.ini')\n",
    "paths = config['paths']\n",
    "\n",
    "# Load investment report\n",
    "df = pd.read_csv(paths['path_treated_b3_report'], sep=\",\")\n",
    "\n",
    "# Filter relevant columns\n",
    "mask = [\n",
    "    \"Tipo Ativo\", \"Ativo\", \"Data Negociacao\", \"Quantidade Atual\", \n",
    "    \"Preco Medio Atual\", \"Investimento Atual\", \"Lucro Real\", \"Prejuizo\"\n",
    "]\n",
    "df = df[mask]\n",
    "\n",
    "# Convert \"Data Negociacao\" to datetime format\n",
    "df['Data Negociacao'] = pd.to_datetime(df['Data Negociacao'])\n",
    "\n",
    "# Rename columns for consistency\n",
    "df = df.rename(columns={\n",
    "    \"Investimento Atual\": \"Investimento\",\n",
    "    \"Quantidade Atual\": \"Quantidade Total\",\n",
    "    \"Preco Medio Atual\": \"Preco Medio\",\n",
    "    \"Lucro Real\": \"Lucro\"\n",
    "})\n",
    "\n",
    "# Group by \"Ativo\" and sum \"Lucro\" and \"Prejuizo\"\n",
    "group_lucro_prej = df.groupby(\"Ativo\")[['Lucro', 'Prejuizo']].sum()\n",
    "\n",
    "# Keep the latest entry for each \"Ativo\"\n",
    "df = df.drop_duplicates(subset='Ativo', keep='last')\n",
    "\n",
    "# Filter columns\n",
    "df = df.loc[:, [\"Tipo Ativo\", \"Ativo\", \"Quantidade Total\", \"Preco Medio\", \"Investimento\"]]\n",
    "\n",
    "# Merge with total \"Lucro\" and \"Prejuizo\" data\n",
    "df = df.merge(group_lucro_prej, on=\"Ativo\", how=\"left\")\n",
    "\n",
    "# Round financial values to two decimal places\n",
    "df['Investimento'] = round(df['Investimento'], 2)\n",
    "df['Preco Medio'] = round(df['Preco Medio'], 2)\n"
   ]
  },
  {
   "cell_type": "markdown",
   "metadata": {},
   "source": [
    "## Market Data Cleaning\n",
    "\n",
    "Here we load, clean, and preprocess the market data related to FIIs, such as price, dividend yield, and other financial indicators. The data is then merged with the investment data.\n"
   ]
  },
  {
   "cell_type": "code",
   "execution_count": null,
   "metadata": {},
   "outputs": [],
   "source": [
    "# Load FII market data\n",
    "df_quote = pd.read_csv(paths['path_investidor10_fiis_details'], sep=\",\")\n",
    "\n",
    "# Select relevant columns\n",
    "df_quote = df_quote[[\n",
    "    \"fii_name\", \"quote\", \"dividend_yield\", \"price_book_ratio\", \n",
    "    \"liquidity\", \"appreciation_12months\", \"number_unit_holders\", \n",
    "    \"vacancy\", \"fund_type\"\n",
    "]]\n",
    "\n",
    "# Rename columns for consistency\n",
    "df_quote = df_quote.rename(columns={\n",
    "    \"fii_name\": \"Ativo\",\n",
    "    \"quote\": \"Preco Atual\",\n",
    "    \"dividend_yield\": \"Dividend Yield\",\n",
    "    \"price_book_ratio\": \"P/VP\",\n",
    "    \"liquidity\": \"Negociacao diaria\",\n",
    "    \"appreciation_12months\": \"Variacao 12M\",\n",
    "    \"number_unit_holders\": \"N/Cotistas\",\n",
    "    \"vacancy\": \"Vacancia\",\n",
    "    \"fund_type\": \"Tipo Fundo\"\n",
    "})\n",
    "\n",
    "# Remove rows with null values in relevant columns\n",
    "df_quote = df_quote.dropna(subset=['Preco Atual', 'Dividend Yield', 'Negociacao diaria'], axis=0)\n",
    "\n",
    "# Replace dashes with zeros for missing values\n",
    "cols = ['Preco Atual', 'Dividend Yield', 'P/VP', 'Negociacao diaria', 'Variacao 12M', 'N/Cotistas', 'Vacancia']\n",
    "df_quote[cols] = df_quote[cols].apply(lambda x: x.str.replace(\"-\", \"0\"))\n",
    "\n",
    "# Clean and format columns\n",
    "df_quote[\"Preco Atual\"] = df_quote[\"Preco Atual\"].str.replace(\"R$ \", \"\").str.replace(\".\", \"\").str.replace(\",\", \".\")\n",
    "df_quote[\"Dividend Yield\"] = df_quote[\"Dividend Yield\"].str.replace(\"%\", \"\").str.replace(\",\", \".\")\n",
    "df_quote[\"P/VP\"] = df_quote[\"P/VP\"].str.replace(\".\", \"\").str.replace(\",\", \".\")\n",
    "df_quote[\"Negociacao diaria\"] = df_quote[\"Negociacao diaria\"].str.replace(\"R$ \", \"\")\n",
    "df_quote[\"Variacao 12M\"] = df_quote[\"Variacao 12M\"].str.replace(\"%\", \"\").str.replace(\".\", \"\").str.replace(\",\", \".\")\n",
    "df_quote[\"N/Cotistas\"] = df_quote[\"N/Cotistas\"].astype(\"str\").str.replace(\".\", \"\")\n",
    "df_quote['Vacancia'] = df_quote['Vacancia'].astype(\"str\").str.replace(\"%\", \"\").str.replace(\".\", \"\").str.replace(\",\", \".\")\n",
    "\n",
    "# Function to handle values in thousands (K) or millions (M)\n",
    "def replace_m_k_values(row):\n",
    "    if 'M' in row['Negociacao diaria']:\n",
    "        row[\"Negociacao diaria\"] = row[\"Negociacao diaria\"].replace(\" M\", \"0000\").replace(\",\", \"\")\n",
    "    elif 'K' in row['Negociacao diaria']:\n",
    "        row[\"Negociacao diaria\"] = row[\"Negociacao diaria\"].replace(\" K\", \"0\").replace(\",\", \"\")\n",
    "    else:\n",
    "        row[\"Negociacao diaria\"] = row[\"Negociacao diaria\"].replace(\".\", \"\").replace(\",\", \".\")\n",
    "    return row\n",
    "\n",
    "# Apply the transformation function to the data\n",
    "df_quote = df_quote.apply(replace_m_k_values, axis=1)\n",
    "\n",
    "# Convert columns to appropriate data types\n",
    "df_quote[\"Preco Atual\"] = df_quote[\"Preco Atual\"].astype(\"float\")\n",
    "df_quote[\"P/VP\"] = df_quote[\"P/VP\"].astype(\"float\")\n",
    "df_quote[\"Dividend Yield\"] = df_quote[\"Dividend Yield\"].astype(\"float\")\n",
    "df_quote[\"Negociacao diaria\"] = df_quote[\"Negociacao diaria\"].astype(\"float\")\n",
    "df_quote[\"Variacao 12M\"] = df_quote[\"Variacao 12M\"].astype(\"float\")\n",
    "df_quote[\"N/Cotistas\"] = df_quote[\"N/Cotistas\"].astype(\"int\")\n",
    "df_quote[\"Vacancia\"] = df_quote[\"Vacancia\"].astype(\"float\")"
   ]
  },
  {
   "cell_type": "markdown",
   "metadata": {},
   "source": [
    "## Merging Investment and Market Data\n",
    "\n",
    "Here we merge the processed investment data and market data for a comprehensive view of the portfolio.\n"
   ]
  },
  {
   "cell_type": "code",
   "execution_count": null,
   "metadata": {},
   "outputs": [],
   "source": [
    "\n",
    "# Merge investment and market data\n",
    "df_investiments = df.merge(df_quote, on=\"Ativo\", how=\"left\")\n",
    "\n",
    "# Calculate balance for each investment\n",
    "df_investiments['Saldo'] = round((df_investiments['Quantidade Total'] * df_investiments['Preco Atual']) - df_investiments['Investimento'], 2)\n",
    "\n",
    "# Calculate the total value by asset class\n",
    "df_investiments[\"V/TA\"] = df_investiments.groupby('Tipo Ativo')['Investimento'].transform('sum')\n",
    "\n",
    "# Calculate percentage of the portfolio for each asset\n",
    "df_investiments[\"% Carteira\"] = round((df_investiments['Investimento'] * 100) / df_investiments['V/TA'], 2)\n",
    "\n",
    "# Filter and display relevant columns\n",
    "df_investiments = df_investiments.loc[:, [\n",
    "    'Tipo Ativo', 'Ativo', 'Investimento', 'Quantidade Total', 'Preco Medio', \n",
    "    'Preco Atual', 'Variacao 12M', 'Saldo', 'Lucro', 'Prejuizo', '% Carteira', \n",
    "    'Dividend Yield', 'P/VP', 'Negociacao diaria', 'N/Cotistas', 'Vacancia', 'Tipo Fundo'\n",
    "]]\n"
   ]
  },
  {
   "cell_type": "markdown",
   "metadata": {},
   "source": [
    "## Portfolio Summary\n",
    "\n",
    "This section calculates the total investments and displays a summary of the portfolio, including details of each asset and the allocation percentage.\n"
   ]
  },
  {
   "cell_type": "code",
   "execution_count": null,
   "metadata": {},
   "outputs": [],
   "source": [
    "# Print portfolio summary\n",
    "print(\"Resumo de carteira\\n\")\n",
    "\n",
    "# Calculate total investments\n",
    "total_investimentos = df_investiments[\"Investimento\"].sum()\n",
    "print(f\"Total de Investimentos: R$ {total_investimentos:.2f}\")"
   ]
  },
  {
   "cell_type": "code",
   "execution_count": null,
   "metadata": {},
   "outputs": [],
   "source": [
    "# Continue sorting and filtering the portfolio by asset type and percentage\n",
    "df_carteira = df_investiments.loc[df_investiments[\"Investimento\"] > 0, [\n",
    "    'Tipo Ativo', 'Ativo', 'Investimento', 'Quantidade Total', 'Preco Medio', \n",
    "    'Preco Atual', 'Variacao 12M', 'Saldo', 'Lucro', 'Prejuizo', '% Carteira'\n",
    "]]\n",
    "\n",
    "# Sort portfolio by asset type and percentage of the portfolio\n",
    "df_carteira = df_carteira.sort_values(['Tipo Ativo', '% Carteira'], ascending=False)\n",
    "\n",
    "# Show top 50 assets in the portfolio\n",
    "df_carteira.head(50)\n",
    "\n",
    "# Filter assets that are not in the portfolio (Investimento == 0)\n",
    "df_fora_carteira = df_investiments.loc[df_investiments[\"Investimento\"] == 0, [\n",
    "    'Tipo Ativo', 'Ativo', 'Investimento', 'Quantidade Total', 'Preco Medio', \n",
    "    'Preco Atual', 'Variacao 12M', 'Saldo', 'Lucro', 'Prejuizo', '% Carteira'\n",
    "]]\n",
    "\n",
    "# Display assets outside the portfolio\n",
    "df_fora_carteira.head(50)\n",
    "\n",
    "# Group by asset type to summarize total investment and balance\n",
    "df_general = df_carteira.groupby(['Tipo Ativo'])[['Investimento', 'Saldo']].sum()\n",
    "\n",
    "# Calculate percentage of total portfolio per asset type\n",
    "df_general[\"% Carteira\"] = round((df_general['Investimento'] * 100) / total_investimentos, 2)\n",
    "\n",
    "# Display summary for each asset type\n",
    "df_general.head()\n"
   ]
  },
  {
   "cell_type": "markdown",
   "metadata": {},
   "source": [
    "## Tax Consideration for FIIs\n",
    "\n",
    "Here, we will check the number of unit holders (`N/Cotistas`) for each FII. Based on the number of cotistas, we determine whether the FII pays taxes or not. If the FII has fewer than 100 cotistas, it is considered \"NOT SAFE\" and subject to taxes.\n"
   ]
  },
  {
   "cell_type": "code",
   "execution_count": null,
   "metadata": {},
   "outputs": [],
   "source": [
    "# Check for tax consideration based on number of unit holders (N/Cotistas) for FIIs\n",
    "for index, row in df_investiments.iterrows():\n",
    "    if row['Tipo Ativo'] == 'Fii':\n",
    "        if row['N/Cotistas'] <= 100:\n",
    "            print(f\"NOT SAFE - FII {row['Ativo']} paga Imposto, tem {row['N/Cotistas']} cotistas\")\n",
    "        else:\n",
    "            print(f\"SAFE - FII {row['Ativo']} não paga imposto, tem {row['N/Cotistas']} cotistas\")\n"
   ]
  },
  {
   "cell_type": "markdown",
   "metadata": {},
   "source": [
    "## Visualizing Portfolio Data\n",
    "\n",
    "In this section, we will generate visualizations (such as pie charts or bar plots) to display the portfolio distribution, both by asset type and by the percentage of the total portfolio.\n"
   ]
  },
  {
   "cell_type": "code",
   "execution_count": null,
   "metadata": {},
   "outputs": [],
   "source": [
    "# Remove null values from the dataset\n",
    "df_investiments = df_investiments.loc[df_investiments[\"Investimento\"] > 0]\n",
    "\n",
    "# Plot portfolio distribution by asset type\n",
    "plt.figure(figsize=(10, 6))\n",
    "df_general['% Carteira'].plot(kind='pie', autopct='%1.1f%%', startangle=90, legend=False)\n",
    "plt.title(\"Distribuição da Carteira por Tipo de Ativo\")\n",
    "plt.ylabel('')\n",
    "plt.show()\n",
    "\n",
    "# Plot individual investments and their performance (Investimento vs Saldo)\n",
    "plt.figure(figsize=(10, 6))\n",
    "\n",
    "ax = df_investiments.plot(kind='bar', x='Ativo', y=['Investimento', 'Saldo'], stacked=True, figsize=(12, 8))\n",
    "plt.title(\"Investimentos e Saldo por Ativo\")\n",
    "plt.ylabel('Valor (R$)')\n",
    "plt.xticks(rotation=90)\n",
    "\n",
    "# Fix the axis y for intervals 100\n",
    "ax.set_yticks(range(-500, int(df_investiments[['Investimento', 'Saldo']].max().max()) + 100, 100))\n",
    "\n",
    "plt.show()\n",
    "\n",
    "# Optional: Create more plots\n"
   ]
  },
  {
   "cell_type": "code",
   "execution_count": null,
   "metadata": {},
   "outputs": [],
   "source": [
    "cols = ['Tipo Ativo','Ativo','Investimento','Quantidade Total','Preco Medio','Preco Atual','Variacao 12M','Saldo','Lucro', 'Prejuizo', '% Carteira']\n",
    "df_investiments.sort_values(['Tipo Ativo', '% Carteira'], ascending=False, inplace=True)\n",
    "\n",
    "my_wallet = df_investiments[cols]\n",
    "my_wallet.to_csv(paths['path_portfolio_analysis'], index=False)"
   ]
  },
  {
   "cell_type": "code",
   "execution_count": null,
   "metadata": {},
   "outputs": [],
   "source": [
    "my_wallet.head(30)"
   ]
  },
  {
   "cell_type": "markdown",
   "metadata": {},
   "source": [
    "## Conclusion\n",
    "\n",
    "This script provides an analysis of your investment portfolio, including:\n",
    "- Total investment amount.\n",
    "- Distribution of the portfolio by asset class.\n",
    "- Detailed information on individual assets.\n",
    "- Tax considerations for FIIs based on the number of unit holders.\n",
    "- Visualization of portfolio performance."
   ]
  }
 ],
 "metadata": {
  "kernelspec": {
   "display_name": ".venv",
   "language": "python",
   "name": "python3"
  },
  "language_info": {
   "codemirror_mode": {
    "name": "ipython",
    "version": 3
   },
   "file_extension": ".py",
   "mimetype": "text/x-python",
   "name": "python",
   "nbconvert_exporter": "python",
   "pygments_lexer": "ipython3",
   "version": "3.10.6"
  }
 },
 "nbformat": 4,
 "nbformat_minor": 2
}
