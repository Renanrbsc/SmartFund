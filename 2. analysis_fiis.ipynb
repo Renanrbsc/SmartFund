{
 "cells": [
  {
   "cell_type": "markdown",
   "metadata": {},
   "source": [
    "# Imports"
   ]
  },
  {
   "cell_type": "code",
   "execution_count": null,
   "id": "fda9ea19-0074-444a-9aa5-91d0075a4508",
   "metadata": {
    "editable": true,
    "slideshow": {
     "slide_type": ""
    },
    "tags": []
   },
   "outputs": [],
   "source": [
    "import pandas as pd\n",
    "import os\n",
    "from datetime import datetime\n",
    "import numpy as np\n",
    "import re\n",
    "import configparser\n",
    "\n",
    "pd.set_option('display.max_rows', 100)\n",
    "pd.set_option('display.max_columns', 50)\n",
    "\n",
    "now = datetime.now().date()\n",
    "\n",
    "# Create obj config and load paths\n",
    "config = configparser.ConfigParser()\n",
    "config.read('config.ini')\n",
    "paths = config['paths']"
   ]
  },
  {
   "cell_type": "markdown",
   "metadata": {},
   "source": [
    "# Treatments"
   ]
  },
  {
   "cell_type": "code",
   "execution_count": null,
   "id": "d063003a-2a47-480b-8c98-5003618c8d2e",
   "metadata": {},
   "outputs": [],
   "source": [
    "df_details = pd.read_csv(\n",
    "    paths[\"path_investidor10_fiis_details\"],\n",
    "    sep=\",\")\n",
    "df_details = df_details[\n",
    "    [\n",
    "        \"fii_name\", \"quote\", \"dividend_yield\", \n",
    "        \"price_book_ratio\", \"liquidity\", \"appreciation_12months\", \n",
    "        \"number_unit_holders\", \"vacancy\", \"fund_type\", \"net_asset_value\", \n",
    "        \"management_fee\", \"issued_units\", \"market_sector\", \"net_asset_value_per_unit\"\n",
    "    ]\n",
    "]\n",
    "\n",
    "df_details = df_details.rename(columns={\"fii_name\": \"Ativo\"})\n",
    "df_details = df_details.rename(columns={\"quote\": \"Preco Atual\"})\n",
    "df_details = df_details.rename(columns={\"dividend_yield\": \"DY\"}) # Porcentagem em Dividendos\n",
    "df_details = df_details.rename(columns={\"price_book_ratio\": \"P/VP\"}) # Preco sobre Valor Patrimonial\n",
    "df_details = df_details.rename(columns={\"liquidity\": \"Negociacao diaria\"})\n",
    "df_details = df_details.rename(columns={\"appreciation_12months\": \"Variacao 12M\"})\n",
    "df_details = df_details.rename(columns={\"number_unit_holders\": \"N/Cotistas\"})\n",
    "df_details = df_details.rename(columns={\"vacancy\": \"Vacancia\"})\n",
    "df_details = df_details.rename(columns={\"fund_type\": \"Tipo Fundo\"})\n",
    "df_details = df_details.rename(columns={\"net_asset_value\": \"Valor Patrimonial\"})\n",
    "df_details = df_details.rename(columns={\"management_fee\": \"Taxa Gerencia\"})\n",
    "df_details = df_details.rename(columns={\"issued_units\": \"Cotas Emitidas\"})\n",
    "df_details = df_details.rename(columns={\"market_sector\": \"Setor\"})\n",
    "df_details = df_details.rename(columns={\"net_asset_value_per_unit\": \"VP/C\"}) # Valor Parimonial por Cota\n",
    "\n",
    "# Removed null rows (Fiis not found data in website) \n",
    "df_details = df_details.dropna(subset=['Preco Atual', 'DY', 'Negociacao diaria'], axis=0)\n",
    "\n",
    "df_details['Preco Atual'] = df_details['Preco Atual'].str.replace(\"-\", \"0\")\n",
    "df_details['DY'] = df_details['DY'].str.replace(\"-\", \"0\")\n",
    "df_details['P/VP'] = df_details['P/VP'].str.replace(\"-\", \"0\")\n",
    "df_details['Negociacao diaria'] = df_details['Negociacao diaria'].str.replace(\"-\", \"0\")\n",
    "df_details['Variacao 12M'] = df_details['Variacao 12M'].str.replace(\"-\", \"0\")\n",
    "df_details['N/Cotistas'] = df_details['N/Cotistas'].str.replace(\"-\", \"0\")\n",
    "df_details['Vacancia'] = df_details['Vacancia'].str.replace(\"-\", \"0\")\n",
    "df_details['Valor Patrimonial'] = df_details['Valor Patrimonial'].str.replace(\"-\", \"0\")\n",
    "\n",
    "df_details[\"Ativo\"] = df_details[\"Ativo\"].str.upper()\n",
    "df_details[\"Preco Atual\"] = df_details[\"Preco Atual\"].str.replace(\"R$ \", \"\").str.replace(\".\", \"\").str.replace(\",\", \".\")\n",
    "df_details[\"DY\"] = df_details[\"DY\"].str.replace(\"%\", \"\").str.replace(\",\", \".\")\n",
    "df_details[\"P/VP\"] = df_details[\"P/VP\"].str.replace(\".\", \"\").str.replace(\",\", \".\")\n",
    "df_details[\"Negociacao diaria\"] = df_details[\"Negociacao diaria\"].str.replace(\"R$ \", \"\")\n",
    "df_details[\"Variacao 12M\"] = df_details[\"Variacao 12M\"].str.replace(\"%\", \"\").str.replace(\".\", \"\").str.replace(\",\", \".\")\n",
    "df_details[\"N/Cotistas\"] = df_details[\"N/Cotistas\"].astype(\"str\").str.replace(\".\", \"\")\n",
    "df_details['Vacancia'] = df_details['Vacancia'].astype(\"str\").str.replace(\"%\", \"\").str.replace(\".\", \"\").str.replace(\",\", \".\")\n",
    "df_details['Valor Patrimonial'] = df_details['Valor Patrimonial'].str.replace(\"R$ \", \"\")\n",
    "\n",
    "def replace_m_k_values(row):\n",
    "    if 'M' in row['Negociacao diaria']:\n",
    "        row[\"Negociacao diaria\"] = row[\"Negociacao diaria\"].replace(\" M\", \"0000\").replace(\",\", \"\") \n",
    "    elif 'K' in row['Negociacao diaria']:\n",
    "        row[\"Negociacao diaria\"] = row[\"Negociacao diaria\"].replace(\" K\", \"0\").replace(\",\", \"\")\n",
    "    else:\n",
    "        row[\"Negociacao diaria\"] = row[\"Negociacao diaria\"].replace(\".\", \"\").replace(\",\", \".\")\n",
    "    return row\n",
    "df_details = df_details.apply(replace_m_k_values, axis=1)\n",
    "\n",
    "def convert_to_scientific(value):\n",
    "    numeric_value = float(re.sub(r'[^0-9.]', '', value))\n",
    "    \n",
    "    if 'Bilhões' in value or 'Bilhão' in value:\n",
    "        numeric_value *= 1e9\n",
    "    elif 'Mil' in value:\n",
    "        if 'Milhões' in value or 'Milhão' in value:\n",
    "            numeric_value *= 1e6\n",
    "        else:\n",
    "            numeric_value *= 1e3\n",
    "    \n",
    "    return f\"{numeric_value:e}\"\n",
    "\n",
    "# Aplica a função de conversão para notação científica\n",
    "df_details['Valor Patrimonial'] = df_details['Valor Patrimonial'].apply(convert_to_scientific)\n",
    "\n",
    "\n",
    "def taxa_gerencia(texto):\n",
    "    if not texto:\n",
    "        texto = 0\n",
    "    else: \n",
    "        texto = str(texto).strip(' ')\n",
    "        texto = texto.split(\"%\")[0]\n",
    "        texto = texto.split(\"a.a.\")[0]\n",
    "        texto = texto.split(\"de\")[0]\n",
    "        try:\n",
    "            texto = float(texto.replace(',', '.'))\n",
    "        except:\n",
    "            texto = 0\n",
    "    return texto\n",
    "df_details[\"Taxa Gerencia\"] = df_details[\"Taxa Gerencia\"].str.replace(\" \", \"\")\n",
    "df_details['Taxa Gerencia'] = df_details['Taxa Gerencia'].apply(taxa_gerencia)\n",
    "\n",
    "df_details[\"Preco Atual\"] = df_details[\"Preco Atual\"].astype(\"float\")\n",
    "df_details[\"P/VP\"] = df_details[\"P/VP\"].astype(\"float\")\n",
    "df_details[\"DY\"] = df_details[\"DY\"].astype(\"float\")\n",
    "df_details[\"Negociacao diaria\"] = df_details[\"Negociacao diaria\"].astype(\"float\")\n",
    "df_details[\"Variacao 12M\"] = df_details[\"Variacao 12M\"].astype(\"float\")\n",
    "df_details[\"N/Cotistas\"] = df_details[\"N/Cotistas\"].astype(\"int\")\n",
    "df_details[\"Vacancia\"] = df_details[\"Vacancia\"].astype(\"float\")\n",
    "df_details['Valor Patrimonial'] = df_details['Valor Patrimonial'].astype(\"float\")\n",
    "df_details['Taxa Gerencia'] = df_details['Taxa Gerencia'].astype(\"float\")"
   ]
  },
  {
   "cell_type": "code",
   "execution_count": null,
   "metadata": {},
   "outputs": [],
   "source": [
    "df_properties = pd.read_csv(\n",
    "    paths[\"path_investidor10_fiis_properties\"],\n",
    "    sep=\",\")\n",
    "\n",
    "df_properties = df_properties.rename(columns={\"fii_name\": \"Ativo\"})\n",
    "\n",
    "df_count = df_properties['Ativo'].value_counts().rename('Quant. Imoveis').reset_index()\n",
    "\n",
    "df_fiis = df_details.merge(df_count, on='Ativo', how='left')\n",
    "\n",
    "df_fiis['Quant. Imoveis'] = df_fiis['Quant. Imoveis'].fillna(0)\n",
    "df_fiis['Quant. Imoveis'] = df_fiis['Quant. Imoveis'].astype('int')"
   ]
  },
  {
   "cell_type": "markdown",
   "metadata": {},
   "source": [
    "# Score Padrao"
   ]
  },
  {
   "cell_type": "code",
   "execution_count": null,
   "metadata": {},
   "outputs": [],
   "source": [
    "df_fiis['Score Padrao'] = 0\n",
    "\n",
    "# Crie uma lista de condições\n",
    "condicoes = [\n",
    "    (df_fiis['P/VP'] <= 1.10) & (df_fiis['P/VP'] >= 0.90),\n",
    "    df_fiis['Negociacao diaria'] >= 600000,\n",
    "    (df_fiis['DY'] >= 8) & (df_fiis['DY'] <= 13),\n",
    "    df_fiis['N/Cotistas'] >= 50000,\n",
    "    df_fiis['Vacancia'] <= 10,\n",
    "    df_fiis['Valor Patrimonial'] >= 1e6,\n",
    "    df_fiis['Taxa Gerencia'] <= 1,\n",
    "    df_fiis['Tipo Fundo'].isin(['Fundo de Tijolo', 'Fundo de fundos', 'Fundo misto']), # Tijolo = Segurança, FOF = Diversificação, Fundo = Equilibrio Volatil\n",
    "    (df_fiis['Variacao 12M'] >= -5) & (df_fiis['Variacao 12M'] <= 5),\n",
    "    df_fiis['Quant. Imoveis'] >= 5\n",
    "]\n",
    "\n",
    "# Percorra as condições e some os pontos\n",
    "for i, condicao in enumerate(condicoes):\n",
    "    df_fiis['Score Padrao'] += condicao"
   ]
  },
  {
   "cell_type": "markdown",
   "metadata": {},
   "source": [
    "# Score Extra"
   ]
  },
  {
   "cell_type": "code",
   "execution_count": null,
   "metadata": {},
   "outputs": [],
   "source": [
    "df_fiis['Vacancia Score'] = 0\n",
    "df_fiis['Negociacao diaria Score'] = 0\n",
    "df_fiis['N/Cotistas Score'] = 0\n",
    "df_fiis['DY Score'] = 0\n",
    "df_fiis['P/VP Score'] = 0\n",
    "df_fiis['Quant. Imoveis Score'] = 0\n",
    "df_fiis['Score Final'] = 0\n",
    "\n",
    "# Obtenha os índices dos 5 menores valores de \"Vacância\"\n",
    "df_fiis.loc[df_fiis['Vacancia'].nsmallest(10).index, 'Vacancia Score'] = 1\n",
    "\n",
    "# Obtenha os índices dos 5 menores valores de \"Negociacao diaria\"\n",
    "df_fiis.loc[df_fiis['Negociacao diaria'].nlargest(10).index, 'Negociacao diaria Score'] = 1\n",
    "\n",
    "# Obtenha os índices dos 5 menores valores de \"N/Cotistas\"\n",
    "df_fiis.loc[df_fiis['N/Cotistas'].nlargest(10).index, 'N/Cotistas Score'] = 1\n",
    "\n",
    "# Selecione apenas as linhas que estão dentro da faixa de DY (7 a 12)\n",
    "# Calcule a média e atribui 1 ponto às 5 linhas mais próxima da média\n",
    "filtered_df = df_fiis[(df_fiis['DY'] >= 8) & (df_fiis['DY'] <= 13)]\n",
    "dividend_yield_mean = filtered_df['DY'].mean()\n",
    "df_fiis.loc[(filtered_df['DY'] - dividend_yield_mean).abs().nsmallest(5).index, 'DY Score'] = 1\n",
    "\n",
    "# Obtenha os índices dos 10 maiores valores\n",
    "# com patrimonio acima de 1 Bilhão e P/VP proximo a 1\n",
    "filtered_df = df_fiis[(df_fiis['Valor Patrimonial'] >= 1e6) & (df_fiis['P/VP'] >= 0.95) & (df_fiis['P/VP'] <= 1.00)]\n",
    "df_fiis.loc[filtered_df['Valor Patrimonial'].nlargest(10).index, 'P/VP Score'] = 1\n",
    "\n",
    "# Obtem apenas os ativos que contem mais de 10 Imoveis listados, como garantia de diversificação\n",
    "df_fiis.loc[df_fiis['Quant. Imoveis'] >= 10, 'Quant. Imoveis Score'] = 1\n",
    "\n",
    "df_fiis['Score Final'] += df_fiis['Score Padrao']\n",
    "df_fiis['Score Final'] += df_fiis['Vacancia Score']\n",
    "df_fiis['Score Final'] += df_fiis['Negociacao diaria Score']\n",
    "df_fiis['Score Final'] += df_fiis['N/Cotistas Score']\n",
    "df_fiis['Score Final'] += df_fiis['DY Score']\n",
    "df_fiis['Score Final'] += df_fiis['Quant. Imoveis Score']\n",
    "df_fiis['Score Final'] += df_fiis['P/VP Score']"
   ]
  },
  {
   "cell_type": "markdown",
   "metadata": {},
   "source": [
    "# Conclusão"
   ]
  },
  {
   "cell_type": "code",
   "execution_count": null,
   "metadata": {},
   "outputs": [],
   "source": [
    "df_fiis = df_fiis.sort_values(['Score Final', 'Score Padrao'], ascending=False)\n",
    "df_fiis[['Score Padrao', 'Score Final', 'Ativo', 'Preco Atual', 'VP/C', 'P/VP']].head(20)"
   ]
  },
  {
   "cell_type": "code",
   "execution_count": null,
   "metadata": {},
   "outputs": [],
   "source": [
    "# df_fiis.head(20)"
   ]
  },
  {
   "cell_type": "code",
   "execution_count": null,
   "id": "7bddf8e3-a596-400a-8be5-2dc6954f491f",
   "metadata": {},
   "outputs": [],
   "source": []
  }
 ],
 "metadata": {
  "kernelspec": {
   "display_name": ".venv",
   "language": "python",
   "name": "python3"
  },
  "language_info": {
   "codemirror_mode": {
    "name": "ipython",
    "version": 3
   },
   "file_extension": ".py",
   "mimetype": "text/x-python",
   "name": "python",
   "nbconvert_exporter": "python",
   "pygments_lexer": "ipython3",
   "version": "3.10.6"
  }
 },
 "nbformat": 4,
 "nbformat_minor": 5
}
